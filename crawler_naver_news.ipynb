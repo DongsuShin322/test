{
 "cells": [
  {
   "cell_type": "markdown",
   "metadata": {
    "collapsed": true
   },
   "source": [
    "# Naver OPEN API를 이용한 네이버 뉴스 크롤러"
   ]
  },
  {
   "cell_type": "code",
   "execution_count": null,
   "metadata": {
    "collapsed": true
   },
   "outputs": [],
   "source": [
    "# web server에 HTML 소스코드 요청하기 위한 모듈\n",
    "import urllib.request\n",
    "import urllib.parse\n",
    "\n",
    "# HTML 소스코드로부터 crawling 하기 위한 라이브러리\n",
    "from bs4 import BeautifulSoup"
   ]
  },
  {
   "cell_type": "code",
   "execution_count": 3,
   "metadata": {
    "collapsed": false
   },
   "outputs": [
    {
     "name": "stdout",
     "output_type": "stream",
     "text": [
      "검색어를 입력하세요: 머신러닝\n",
      "https://openapi.naver.com/v1/search/news.xml?sort=sim&start=1&display=100&query=%EB%A8%B8%EC%8B%A0%EB%9F%AC%EB%8B%9D\n"
     ]
    }
   ],
   "source": [
    "# crawling 할 url 주소에 대한 설정\n",
    "defaultURL = 'https://openapi.naver.com/v1/search/news.xml?'\n",
    "sort = 'sort=sim' # option\n",
    "start = '&start=1' # option\n",
    "display = '&display=100' # option\n",
    "query = '&query='+urllib.parse.quote_plus(str(input(\"검색어를 입력하세요: \"))) # 검색어 입력 받아 한글 --> 파싱 (공백은 +로 처리)\n",
    "fullURL = defaultURL + sort + start + display + query\n",
    "print(fullURL)\n",
    "\n",
    "# HTTP 요청을 하기 전에 헤더 정보를 이용해 request 객체를 생성합니다. urllib 모듈에서 헤더 정보를 서버에 전달할 때 사용하는 대표적인 방법입니다.\n",
    "headers = {\n",
    "    'Host' : 'openapi.naver.com',\n",
    "    'User-Agent' : 'curl/7.43.0',\n",
    "    'Accept' : '*/*',\n",
    "    'Content-Type' : 'application/xml',\n",
    "    'X-Naver-Client-Id' : 'gXbe606rgofEGUymSqwc',\n",
    "    'X-Naver-Client-Secret' : 'KTBr5jE9Fl'\n",
    " }\n",
    "req = urllib.request.Request(fullURL, headers=headers)\n",
    "\n",
    "# 생성된 request객체를 uplopen함수의 인수로 전달합니다. 이렇게 되면 헤더 정보를 포함하여 서버에게 HTTP 요청을 하게 됩니다.\n",
    "f = urllib.request.urlopen(req)\n",
    "resultXML = f.read() #데이터를 XML로 읽음\n",
    "xmlsoup = BeautifulSoup(resultXML, 'html.parser')\n",
    "items = xmlsoup.find_all('item') # item 해당하는 데이터 전부를 리스트 형태로 가져옴\n",
    "\n",
    "# 내 컴퓨터에 never_news.txt 라는 파일을 쓰기모드로 생성\n",
    "file = open(\"/home/dongsu/practice/naver_news.txt\",\"w\",encoding='utf-8')\n",
    "\n",
    "# never_news.txt 에 write 함\n",
    "for item in items:\n",
    "    file.write('--------------------------\\n')\n",
    "    file.write('뉴스제목 : ' + item.title.get_text(strip=True) + '\\n') # get_text() : 해당 태그 아래 모든 문자열을 하나의 문자열로  \n",
    "    file.write('요약내용 : ' + item.description.get_text(strip=True) + '\\n') # get_text(strip=True) : 줄바꿈 기호 생략\n",
    "    file.write('원문링크 : ' + item.link.get_text(strip=True) + '\\n')\n",
    "    file.write('--------------------------\\n')\n",
    "\n",
    "file.close()"
   ]
  },
  {
   "cell_type": "code",
   "execution_count": null,
   "metadata": {
    "collapsed": true
   },
   "outputs": [],
   "source": []
  }
 ],
 "metadata": {
  "anaconda-cloud": {},
  "kernelspec": {
   "display_name": "Python [default]",
   "language": "python",
   "name": "python3"
  },
  "language_info": {
   "codemirror_mode": {
    "name": "ipython",
    "version": 3
   },
   "file_extension": ".py",
   "mimetype": "text/x-python",
   "name": "python",
   "nbconvert_exporter": "python",
   "pygments_lexer": "ipython3",
   "version": "3.5.2"
  }
 },
 "nbformat": 4,
 "nbformat_minor": 1
}
